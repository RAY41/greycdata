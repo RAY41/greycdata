{
 "cells": [
  {
   "cell_type": "markdown",
   "metadata": {},
   "source": [
    "# Basic GNN Regressor on GREYC chemistry datasets\n",
    "inspired and derived from https://pytorch-geometric.readthedocs.io/en/latest/notes/colabs.html"
   ]
  },
  {
   "cell_type": "code",
   "execution_count": 107,
   "metadata": {},
   "outputs": [
    {
     "name": "stdout",
     "output_type": "stream",
     "text": [
      "The autoreload extension is already loaded. To reload it, use:\n",
      "  %reload_ext autoreload\n"
     ]
    }
   ],
   "source": [
    "%load_ext autoreload\n",
    "%autoreload 2"
   ]
  },
  {
   "cell_type": "code",
   "execution_count": 108,
   "metadata": {
    "colab": {
     "base_uri": "https://localhost:8080/"
    },
    "id": "zn5U4EE6K86v",
    "outputId": "c003f212-2283-4f74-eb5f-00c0fb35ea4e"
   },
   "outputs": [],
   "source": [
    "import os\n",
    "import torch\n",
    "from tqdm import tqdm"
   ]
  },
  {
   "cell_type": "code",
   "execution_count": 118,
   "metadata": {
    "colab": {
     "base_uri": "https://localhost:8080/"
    },
    "id": "mHSP6-RBOqCE",
    "outputId": "ae211408-a548-40e5-844e-d6fd1c03d525"
   },
   "outputs": [],
   "source": [
    "import torch\n",
    "from greycdata.datasets import GreycDataset\n",
    "#Choose Dataset between Acyclic, Alkane or MAO\n",
    "\n",
    "dataset = GreycDataset(name='Acyclic',root='data/Acyclic')"
   ]
  },
  {
   "cell_type": "code",
   "execution_count": 119,
   "metadata": {
    "colab": {
     "base_uri": "https://localhost:8080/"
    },
    "id": "mHSP6-RBOqCE",
    "outputId": "ae211408-a548-40e5-844e-d6fd1c03d525"
   },
   "outputs": [
    {
     "name": "stdout",
     "output_type": "stream",
     "text": [
      "Dataset: GreycDataset(183):\n",
      "====================\n",
      "Number of graphs: 183\n",
      "Number of features: 15\n",
      "Number of classes: 148\n"
     ]
    }
   ],
   "source": [
    "print(f'Dataset: {dataset}:')\n",
    "print('====================')\n",
    "print(f'Number of graphs: {len(dataset)}')\n",
    "print(f'Number of features: {dataset.num_features}')\n",
    "print(f'Number of classes: {dataset.num_classes}')"
   ]
  },
  {
   "cell_type": "code",
   "execution_count": 120,
   "metadata": {
    "colab": {
     "base_uri": "https://localhost:8080/"
    },
    "id": "mHSP6-RBOqCE",
    "outputId": "ae211408-a548-40e5-844e-d6fd1c03d525"
   },
   "outputs": [
    {
     "name": "stdout",
     "output_type": "stream",
     "text": [
      "Number of nodes: 3\n",
      "Number of edges: 4\n",
      "Average node degree: 1.33\n",
      "Has isolated nodes: False\n",
      "Has self-loops: False\n",
      "Is undirected: True\n",
      "tensor([[1., 0., 0., 0., 0., 0., 0., 0., 0., 0., 0., 1., 0., 0., 0.],\n",
      "        [1., 0., 0., 0., 0., 0., 0., 0., 0., 0., 0., 1., 0., 0., 0.],\n",
      "        [0., 0., 1., 0., 0., 0., 0., 0., 0., 0., 0., 2., 0., 0., 0.]])\n"
     ]
    }
   ],
   "source": [
    "data = dataset[0]  # Get a graph object.\n",
    "print(f'Number of nodes: {data.num_nodes}')\n",
    "print(f'Number of edges: {data.num_edges}')\n",
    "print(f'Average node degree: {data.num_edges / data.num_nodes:.2f}')\n",
    "print(f'Has isolated nodes: {data.has_isolated_nodes()}')\n",
    "print(f'Has self-loops: {data.has_self_loops()}')\n",
    "print(f'Is undirected: {data.is_undirected()}')\n",
    "print(data.x)"
   ]
  },
  {
   "cell_type": "code",
   "execution_count": 121,
   "metadata": {
    "colab": {
     "base_uri": "https://localhost:8080/"
    },
    "id": "j11WiUr-PRH_",
    "outputId": "5f84abf9-05bc-4c62-95f1-5f80b603b0f0"
   },
   "outputs": [
    {
     "name": "stdout",
     "output_type": "stream",
     "text": [
      "Number of training graphs: 164\n",
      "Number of test graphs: 19\n"
     ]
    }
   ],
   "source": [
    "dataset = dataset.shuffle()\n",
    "ratio_train = .9\n",
    "size_train = int(len(dataset)*ratio_train)\n",
    "size_test = len(dataset)-size_train\n",
    "train_dataset = dataset[:size_train]\n",
    "test_dataset = dataset[size_train:]\n",
    "\n",
    "print(f'Number of training graphs: {len(train_dataset)}')\n",
    "print(f'Number of test graphs: {len(test_dataset)}')"
   ]
  },
  {
   "cell_type": "code",
   "execution_count": 122,
   "metadata": {
    "colab": {
     "base_uri": "https://localhost:8080/"
    },
    "id": "0gZ-l0npPIca",
    "outputId": "65b6d684-0e67-42f3-bf60-c98ec1d7338a"
   },
   "outputs": [
    {
     "name": "stdout",
     "output_type": "stream",
     "text": [
      "tensor([139.])\n",
      "Step 1:\n",
      "=======\n",
      "Number of graphs in the current batch: 8\n",
      "DataBatch(edge_index=[2, 110], bond_type=[110], bond_stereo=[110], x=[63, 15], y=[8], batch=[63], ptr=[9])\n",
      "\n",
      "Step 2:\n",
      "=======\n",
      "Number of graphs in the current batch: 8\n",
      "DataBatch(edge_index=[2, 124], bond_type=[124], bond_stereo=[124], x=[70, 15], y=[8], batch=[70], ptr=[9])\n",
      "\n",
      "Step 3:\n",
      "=======\n",
      "Number of graphs in the current batch: 8\n",
      "DataBatch(edge_index=[2, 112], bond_type=[112], bond_stereo=[112], x=[64, 15], y=[8], batch=[64], ptr=[9])\n",
      "\n",
      "Step 4:\n",
      "=======\n",
      "Number of graphs in the current batch: 8\n",
      "DataBatch(edge_index=[2, 116], bond_type=[116], bond_stereo=[116], x=[66, 15], y=[8], batch=[66], ptr=[9])\n",
      "\n",
      "Step 5:\n",
      "=======\n",
      "Number of graphs in the current batch: 8\n",
      "DataBatch(edge_index=[2, 122], bond_type=[122], bond_stereo=[122], x=[69, 15], y=[8], batch=[69], ptr=[9])\n",
      "\n",
      "Step 6:\n",
      "=======\n",
      "Number of graphs in the current batch: 8\n",
      "DataBatch(edge_index=[2, 108], bond_type=[108], bond_stereo=[108], x=[62, 15], y=[8], batch=[62], ptr=[9])\n",
      "\n",
      "Step 7:\n",
      "=======\n",
      "Number of graphs in the current batch: 8\n",
      "DataBatch(edge_index=[2, 124], bond_type=[124], bond_stereo=[124], x=[70, 15], y=[8], batch=[70], ptr=[9])\n",
      "\n",
      "Step 8:\n",
      "=======\n",
      "Number of graphs in the current batch: 8\n",
      "DataBatch(edge_index=[2, 106], bond_type=[106], bond_stereo=[106], x=[61, 15], y=[8], batch=[61], ptr=[9])\n",
      "\n",
      "Step 9:\n",
      "=======\n",
      "Number of graphs in the current batch: 8\n",
      "DataBatch(edge_index=[2, 102], bond_type=[102], bond_stereo=[102], x=[59, 15], y=[8], batch=[59], ptr=[9])\n",
      "\n",
      "Step 10:\n",
      "=======\n",
      "Number of graphs in the current batch: 8\n",
      "DataBatch(edge_index=[2, 96], bond_type=[96], bond_stereo=[96], x=[56, 15], y=[8], batch=[56], ptr=[9])\n",
      "\n",
      "Step 11:\n",
      "=======\n",
      "Number of graphs in the current batch: 8\n",
      "DataBatch(edge_index=[2, 116], bond_type=[116], bond_stereo=[116], x=[66, 15], y=[8], batch=[66], ptr=[9])\n",
      "\n",
      "Step 12:\n",
      "=======\n",
      "Number of graphs in the current batch: 8\n",
      "DataBatch(edge_index=[2, 120], bond_type=[120], bond_stereo=[120], x=[68, 15], y=[8], batch=[68], ptr=[9])\n",
      "\n",
      "Step 13:\n",
      "=======\n",
      "Number of graphs in the current batch: 8\n",
      "DataBatch(edge_index=[2, 98], bond_type=[98], bond_stereo=[98], x=[57, 15], y=[8], batch=[57], ptr=[9])\n",
      "\n",
      "Step 14:\n",
      "=======\n",
      "Number of graphs in the current batch: 8\n",
      "DataBatch(edge_index=[2, 130], bond_type=[130], bond_stereo=[130], x=[73, 15], y=[8], batch=[73], ptr=[9])\n",
      "\n",
      "Step 15:\n",
      "=======\n",
      "Number of graphs in the current batch: 8\n",
      "DataBatch(edge_index=[2, 106], bond_type=[106], bond_stereo=[106], x=[61, 15], y=[8], batch=[61], ptr=[9])\n",
      "\n",
      "Step 16:\n",
      "=======\n",
      "Number of graphs in the current batch: 8\n",
      "DataBatch(edge_index=[2, 120], bond_type=[120], bond_stereo=[120], x=[68, 15], y=[8], batch=[68], ptr=[9])\n",
      "\n",
      "Step 17:\n",
      "=======\n",
      "Number of graphs in the current batch: 8\n",
      "DataBatch(edge_index=[2, 128], bond_type=[128], bond_stereo=[128], x=[72, 15], y=[8], batch=[72], ptr=[9])\n",
      "\n",
      "Step 18:\n",
      "=======\n",
      "Number of graphs in the current batch: 8\n",
      "DataBatch(edge_index=[2, 108], bond_type=[108], bond_stereo=[108], x=[62, 15], y=[8], batch=[62], ptr=[9])\n",
      "\n",
      "Step 19:\n",
      "=======\n",
      "Number of graphs in the current batch: 8\n",
      "DataBatch(edge_index=[2, 132], bond_type=[132], bond_stereo=[132], x=[74, 15], y=[8], batch=[74], ptr=[9])\n",
      "\n",
      "Step 20:\n",
      "=======\n",
      "Number of graphs in the current batch: 8\n",
      "DataBatch(edge_index=[2, 118], bond_type=[118], bond_stereo=[118], x=[67, 15], y=[8], batch=[67], ptr=[9])\n",
      "\n",
      "Step 21:\n",
      "=======\n",
      "Number of graphs in the current batch: 4\n",
      "DataBatch(edge_index=[2, 42], bond_type=[42], bond_stereo=[42], x=[25, 15], y=[4], batch=[25], ptr=[5])\n",
      "\n"
     ]
    }
   ],
   "source": [
    "from torch_geometric.loader import DataLoader\n",
    "\n",
    "train_loader = DataLoader(train_dataset, batch_size=8, shuffle=True)\n",
    "test_loader = DataLoader(test_dataset, batch_size=32, shuffle=False)\n",
    "\n",
    "print(dataset[0].y)\n",
    "for step, data in enumerate(train_loader):\n",
    "    print(f'Step {step + 1}:')\n",
    "    print('=======')\n",
    "    print(f'Number of graphs in the current batch: {data.num_graphs}')\n",
    "    print(data)\n",
    "    print()"
   ]
  },
  {
   "cell_type": "code",
   "execution_count": 123,
   "metadata": {
    "colab": {
     "base_uri": "https://localhost:8080/"
    },
    "id": "CN3sRVuaQ88l",
    "outputId": "59c998ba-b387-4413-d7d3-2101a27495bd"
   },
   "outputs": [
    {
     "name": "stdout",
     "output_type": "stream",
     "text": [
      "GCN(\n",
      "  (conv1): GCNConv(15, 64)\n",
      "  (conv2): GCNConv(64, 64)\n",
      "  (lin): Linear(in_features=64, out_features=1, bias=True)\n",
      ")\n"
     ]
    }
   ],
   "source": [
    "from torch.nn import Linear\n",
    "import torch.nn.functional as F\n",
    "from torch_geometric.nn import GCNConv\n",
    "from torch_geometric.nn import global_add_pool\n",
    "\n",
    "\n",
    "class GCN(torch.nn.Module):\n",
    "    def __init__(self, input_channels,hidden_channels):\n",
    "        super(GCN, self).__init__()\n",
    "        self.conv1 = GCNConv(input_channels, hidden_channels)\n",
    "        self.conv2 = GCNConv(hidden_channels, hidden_channels)\n",
    "        self.lin = Linear(hidden_channels, 1)\n",
    "\n",
    "    def forward(self, x, edge_index, batch):\n",
    "        x = self.conv1(x, edge_index)\n",
    "        x = x.relu()\n",
    "        x = self.conv2(x, edge_index)\n",
    "        \n",
    "        x = global_add_pool(x, batch) \n",
    "        x = self.lin(x)\n",
    "        return x\n",
    "\n",
    "model = GCN(input_channels=dataset.num_features,hidden_channels=64)\n",
    "print(model)"
   ]
  },
  {
   "cell_type": "code",
   "execution_count": 125,
   "metadata": {
    "colab": {
     "base_uri": "https://localhost:8080/",
     "height": 300
    },
    "id": "HvhgQoO8Svw4",
    "outputId": "4d17af35-85c8-4bcd-8e16-c514fd2ff714"
   },
   "outputs": [
    {
     "name": "stderr",
     "output_type": "stream",
     "text": [
      "100%|████████████████████████████████████████████████████████████████████████████████████████████████████████████████████████████████████████████████████████████████████████████| 999/999 [01:22<00:00, 12.17it/s]\n"
     ]
    }
   ],
   "source": [
    "model = GCN(input_channels=dataset.num_features,hidden_channels=128)\n",
    "optimizer = torch.optim.Adam(model.parameters(), lr=0.01)\n",
    "criterion = torch.nn.MSELoss(reduction=\"sum\")\n",
    "\n",
    "def my_mse(gt,pred):\n",
    "    \"\"\"\n",
    "    Compute the sum of squared errors between gt and pred\n",
    "    \"\"\"\n",
    "    return ((gt-pred)**2).sum()\n",
    "\n",
    "def train():\n",
    "    model.train()\n",
    "    loss_epoch = 0.0\n",
    "    for data in train_loader:  # Iterate in batches over the training dataset.\n",
    "        out = model(data.x, data.edge_index, data.batch)  # Perform a single forward pass.\n",
    "        loss = criterion(out, data.y.reshape(-1,1))  # Compute the loss.\n",
    "        loss_epoch += loss.item()\n",
    "        loss.backward()  # Derive gradients.\n",
    "        optimizer.step()  # Update parameters based on gradients.\n",
    "        optimizer.zero_grad()  # Clear gradients.\n",
    "        loss_epoch += loss.item()\n",
    "    return loss_epoch\n",
    "\n",
    "def test(loader):\n",
    "    model.eval()\n",
    "    sse = 0.0\n",
    "    nb = 0\n",
    "    for data in loader:  # Iterate in batches over the training/test dataset.\n",
    "        out = model(data.x, data.edge_index, data.batch)  \n",
    "        sse += my_mse(out, data.y.reshape(-1,1))\n",
    "    return sse\n",
    "\n",
    "losses=[]\n",
    "\n",
    "for epoch in tqdm(range(1, 1000)):\n",
    "    loss = train()\n",
    "    losses.append(loss)"
   ]
  },
  {
   "cell_type": "code",
   "execution_count": 126,
   "metadata": {
    "scrolled": false
   },
   "outputs": [
    {
     "data": {
      "text/plain": [
       "[<matplotlib.lines.Line2D at 0x7f3b9c9dfdc0>]"
      ]
     },
     "execution_count": 126,
     "metadata": {},
     "output_type": "execute_result"
    },
    {
     "data": {
      "image/png": "[encoded data removed]",
      "text/plain": [
       "<Figure size 640x480 with 1 Axes>"
      ]
     },
     "metadata": {},
     "output_type": "display_data"
    }
   ],
   "source": [
    "import matplotlib.pyplot as plt\n",
    "plt.plot(losses)"
   ]
  },
  {
   "cell_type": "code",
   "execution_count": 128,
   "metadata": {},
   "outputs": [
    {
     "name": "stdout",
     "output_type": "stream",
     "text": [
      "RMSE on train set :7.93\n"
     ]
    }
   ],
   "source": [
    "pred=np.zeros(size_train)\n",
    "gt=np.zeros(size_train)\n",
    "for i,data in enumerate(train_dataset):\n",
    "    pred[i] = model(data.x, data.edge_index, torch.tensor([0])).item()\n",
    "    gt[i] = data.y.item()\n",
    "rmse_train = np.sqrt(np.mean((gt-pred)**2))\n",
    "print(f\"RMSE on train set :{rmse_train:.2f}\")"
   ]
  },
  {
   "cell_type": "code",
   "execution_count": 129,
   "metadata": {},
   "outputs": [
    {
     "name": "stdout",
     "output_type": "stream",
     "text": [
      "RMSE on test set :7.27\n"
     ]
    }
   ],
   "source": [
    "pred=np.zeros(size_test)\n",
    "gt=np.zeros(size_test)\n",
    "for i,data in enumerate(test_dataset):\n",
    "    pred[i] = model(data.x, data.edge_index, torch.tensor([0])).item()\n",
    "    gt[i] = data.y.item()\n",
    "rmse_test = np.sqrt(np.mean((gt-pred)**2))\n",
    "\n",
    "print(f\"RMSE on test set :{rmse_test:.2f}\")"
   ]
  },
  {
   "cell_type": "code",
   "execution_count": 130,
   "metadata": {},
   "outputs": [
    {
     "data": {
      "image/png": "[encoded data removed]",
      "text/plain": [
       "<Figure size 640x480 with 1 Axes>"
      ]
     },
     "metadata": {},
     "output_type": "display_data"
    }
   ],
   "source": [
    "\n",
    "plt.grid(color=\"lightgray\",alpha=.5,zorder=1)\n",
    "plt.gca().spines['top'].set_visible(False)\n",
    "plt.gca().spines['right'].set_visible(False)\n",
    "plt.title(\"Absolute error distribution\")\n",
    "plt.hist(np.abs(gt-pred),zorder=2);"
   ]
  }
 ],
 "metadata": {
  "colab": {
   "collapsed_sections": [],
   "provenance": []
  },
  "kernelspec": {
   "display_name": "Python 3 (ipykernel)",
   "language": "python",
   "name": "python3"
  },
  "language_info": {
   "codemirror_mode": {
    "name": "ipython",
    "version": 3
   },
   "file_extension": ".py",
   "mimetype": "text/x-python",
   "name": "python",
   "nbconvert_exporter": "python",
   "pygments_lexer": "ipython3",
   "version": "3.10.6"
  }
 },
 "nbformat": 4,
 "nbformat_minor": 1
}
