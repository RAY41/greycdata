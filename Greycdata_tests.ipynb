{
 "cells": [
  {
   "cell_type": "code",
   "execution_count": 1,
   "metadata": {},
   "outputs": [],
   "source": [
    "from greycdata.datasets import GreycDataset\n",
    "import time"
   ]
  },
  {
   "cell_type": "code",
   "execution_count": 2,
   "metadata": {},
   "outputs": [
    {
     "name": "stdout",
     "output_type": "stream",
     "text": [
      "PAH :\n",
      "\tNumber of graphs : 94\n",
      "\tPAH[0] : Data(x=[19, 4], edge_index=[2, 44], edge_attr=[44, 1], y=[1])\n",
      "\tFirst node features : tensor([2.0000, 0.5569, 0.0000, 1.0000])\n",
      "Alkane :\n",
      "\tNumber of graphs : 149\n",
      "\tAlkane[0] : Data(x=[1, 4], edge_index=[2, 0], edge_attr=[0, 1], y=[1])\n",
      "\tFirst node features : tensor([0., 0., 0., 0.])\n",
      "Monoterpens :\n",
      "\tNumber of graphs : 302\n",
      "\tMonoterpens[0] : Data(x=[11, 7], edge_index=[2, 24], edge_attr=[24, 1], y=[1])\n",
      "\tFirst node features : tensor([-6.8304,  3.9723,  0.0000,  1.0000,  0.0000,  0.0000,  3.0000])\n",
      "MAO :\n",
      "\tNumber of graphs : 68\n",
      "\tMAO[0] : Data(x=[11, 7], edge_index=[2, 24], edge_attr=[24, 1], y=[1])\n",
      "\tFirst node features : tensor([-0.4465, -1.2135,  0.0000,  1.0000,  0.0000,  0.0000,  2.0000])\n",
      "Acyclic :\n",
      "\tNumber of graphs : 183\n",
      "\tAcyclic[0] : Data(x=[3, 7], edge_index=[2, 4], edge_attr=[4, 1], y=[1])\n",
      "\tFirst node features : tensor([0., 0., 0., 1., 0., 0., 1.])\n"
     ]
    },
    {
     "name": "stderr",
     "output_type": "stream",
     "text": [
      "/home/ray/Documents/GNN/Contribute/greycdata/greycdata/datasets.py:55: FutureWarning: You are using `torch.load` with `weights_only=False` (the current default value), which uses the default pickle module implicitly. It is possible to construct malicious pickle data which will execute arbitrary code during unpickling (See https://github.com/pytorch/pytorch/blob/main/SECURITY.md#untrusted-models for more details). In a future release, the default value for `weights_only` will be flipped to `True`. This limits the functions that could be executed during unpickling. Arbitrary objects will no longer be allowed to be loaded via this mode unless they are explicitly allowlisted by the user via `torch.serialization.add_safe_globals`. We recommend you start setting `weights_only=True` for any use case where you don't have full control of the loaded file. Please open an issue on GitHub for any issues related to this experimental feature.\n",
      "  self.data, self.slices = torch.load(self.processed_paths[0])\n",
      "/home/ray/Documents/GNN/Contribute/pytorch_geometric/torch_geometric/data/in_memory_dataset.py:300: UserWarning: It is not recommended to directly access the internal storage format `data` of an 'InMemoryDataset'. If you are absolutely certain what you are doing, access the internal storage via `InMemoryDataset._data` instead to suppress this warning. Alternatively, you can access stacked individual attributes of every graph via `dataset.{attr_name}`.\n",
      "  warnings.warn(msg)\n"
     ]
    }
   ],
   "source": [
    "datasets = {}\n",
    "for dataset_name in {\"Alkane\", \"Acyclic\", \"MAO\", \"PAH\", \"Monoterpens\"}:\n",
    "    datasets[dataset_name] = GreycDataset(f\"/tmp/test_{dataset_name}\", dataset_name)\n",
    "\n",
    "index = 0\n",
    "for dataset_name in {\"Alkane\", \"Acyclic\", \"MAO\", \"PAH\", \"Monoterpens\"}:\n",
    "    print(f\"{dataset_name} :\")\n",
    "    print(f\"\\tNumber of graphs : {len(datasets[dataset_name])}\")\n",
    "    print(f\"\\t{dataset_name}[{index}] : {datasets[dataset_name][index]}\")\n",
    "    print(f\"\\tFirst node features : {datasets[dataset_name][index].x[0]}\")"
   ]
  },
  {
   "cell_type": "code",
   "execution_count": 3,
   "metadata": {},
   "outputs": [],
   "source": [
    "def print_ct_file(dataset):\n",
    "    print(dataset.name, \":\")\n",
    "    for num, data in enumerate(dataset):\n",
    "        print(f\"\\tGraph {num+1} :\")\n",
    "        print(f\"\\t {data.x.shape[0]} {data.edge_attr.shape[0]//2}\")\n",
    "\n",
    "        for i in range(data.x.shape[0]):\n",
    "            atom_index = data.x[i,3:3+len(dataset.atom_list)].argmax()\n",
    "            print(f\"\\t\\t{data.x[i,0]:10.4f}\"\n",
    "                f\"{data.x[i,1]:10.4f}\"\n",
    "                f\"{data.x[i,2]:10.4f}\"\n",
    "                f\"\\t{dataset.atom_list[atom_index]}\")\n",
    "\n",
    "        for i in range(data.edge_attr.shape[0]):\n",
    "            print(f\"\\t\\t{data.edge_index[:,i][0] + 1:4}\"\n",
    "                  f\"{data.edge_index[:,i][1] + 1:4}\",\n",
    "                  end=\"  \")\n",
    "            for k in range(data.edge_attr.shape[1]):\n",
    "                print(f\"{int(data.edge_attr[i][k]):4}\", end=\"\")\n",
    "            print()"
   ]
  },
  {
   "cell_type": "code",
   "execution_count": 4,
   "metadata": {},
   "outputs": [
    {
     "name": "stdout",
     "output_type": "stream",
     "text": [
      "PAH :\n",
      "\tGraph 1 :\n",
      "\t 19 22\n"
     ]
    },
    {
     "ename": "AttributeError",
     "evalue": "'GreycDataset' object has no attribute 'atom_list'",
     "output_type": "error",
     "traceback": [
      "\u001b[0;31m---------------------------------------------------------------------------\u001b[0m",
      "\u001b[0;31mAttributeError\u001b[0m                            Traceback (most recent call last)",
      "Cell \u001b[0;32mIn[4], line 2\u001b[0m\n\u001b[1;32m      1\u001b[0m \u001b[38;5;28;01mfor\u001b[39;00m dataset_name \u001b[38;5;129;01min\u001b[39;00m {\u001b[38;5;124m\"\u001b[39m\u001b[38;5;124mAlkane\u001b[39m\u001b[38;5;124m\"\u001b[39m, \u001b[38;5;124m\"\u001b[39m\u001b[38;5;124mAcyclic\u001b[39m\u001b[38;5;124m\"\u001b[39m, \u001b[38;5;124m\"\u001b[39m\u001b[38;5;124mMAO\u001b[39m\u001b[38;5;124m\"\u001b[39m, \u001b[38;5;124m\"\u001b[39m\u001b[38;5;124mPAH\u001b[39m\u001b[38;5;124m\"\u001b[39m, \u001b[38;5;124m\"\u001b[39m\u001b[38;5;124mMonoterpens\u001b[39m\u001b[38;5;124m\"\u001b[39m}:\n\u001b[0;32m----> 2\u001b[0m     \u001b[43mprint_ct_file\u001b[49m\u001b[43m(\u001b[49m\u001b[43mdatasets\u001b[49m\u001b[43m[\u001b[49m\u001b[43mdataset_name\u001b[49m\u001b[43m]\u001b[49m\u001b[43m)\u001b[49m\n",
      "Cell \u001b[0;32mIn[3], line 8\u001b[0m, in \u001b[0;36mprint_ct_file\u001b[0;34m(dataset)\u001b[0m\n\u001b[1;32m      5\u001b[0m \u001b[38;5;28mprint\u001b[39m(\u001b[38;5;124mf\u001b[39m\u001b[38;5;124m\"\u001b[39m\u001b[38;5;130;01m\\t\u001b[39;00m\u001b[38;5;124m \u001b[39m\u001b[38;5;132;01m{\u001b[39;00mdata\u001b[38;5;241m.\u001b[39mx\u001b[38;5;241m.\u001b[39mshape[\u001b[38;5;241m0\u001b[39m]\u001b[38;5;132;01m}\u001b[39;00m\u001b[38;5;124m \u001b[39m\u001b[38;5;132;01m{\u001b[39;00mdata\u001b[38;5;241m.\u001b[39medge_attr\u001b[38;5;241m.\u001b[39mshape[\u001b[38;5;241m0\u001b[39m]\u001b[38;5;241m/\u001b[39m\u001b[38;5;241m/\u001b[39m\u001b[38;5;241m2\u001b[39m\u001b[38;5;132;01m}\u001b[39;00m\u001b[38;5;124m\"\u001b[39m)\n\u001b[1;32m      7\u001b[0m \u001b[38;5;28;01mfor\u001b[39;00m i \u001b[38;5;129;01min\u001b[39;00m \u001b[38;5;28mrange\u001b[39m(data\u001b[38;5;241m.\u001b[39mx\u001b[38;5;241m.\u001b[39mshape[\u001b[38;5;241m0\u001b[39m]):\n\u001b[0;32m----> 8\u001b[0m     atom_index \u001b[38;5;241m=\u001b[39m data\u001b[38;5;241m.\u001b[39mx[i,\u001b[38;5;241m3\u001b[39m:\u001b[38;5;241m3\u001b[39m\u001b[38;5;241m+\u001b[39m\u001b[38;5;28mlen\u001b[39m(\u001b[43mdataset\u001b[49m\u001b[38;5;241;43m.\u001b[39;49m\u001b[43matom_list\u001b[49m)]\u001b[38;5;241m.\u001b[39margmax()\n\u001b[1;32m      9\u001b[0m     \u001b[38;5;28mprint\u001b[39m(\u001b[38;5;124mf\u001b[39m\u001b[38;5;124m\"\u001b[39m\u001b[38;5;130;01m\\t\u001b[39;00m\u001b[38;5;130;01m\\t\u001b[39;00m\u001b[38;5;132;01m{\u001b[39;00mdata\u001b[38;5;241m.\u001b[39mx[i,\u001b[38;5;241m0\u001b[39m]\u001b[38;5;132;01m:\u001b[39;00m\u001b[38;5;124m10.4f\u001b[39m\u001b[38;5;132;01m}\u001b[39;00m\u001b[38;5;124m\"\u001b[39m\n\u001b[1;32m     10\u001b[0m         \u001b[38;5;124mf\u001b[39m\u001b[38;5;124m\"\u001b[39m\u001b[38;5;132;01m{\u001b[39;00mdata\u001b[38;5;241m.\u001b[39mx[i,\u001b[38;5;241m1\u001b[39m]\u001b[38;5;132;01m:\u001b[39;00m\u001b[38;5;124m10.4f\u001b[39m\u001b[38;5;132;01m}\u001b[39;00m\u001b[38;5;124m\"\u001b[39m\n\u001b[1;32m     11\u001b[0m         \u001b[38;5;124mf\u001b[39m\u001b[38;5;124m\"\u001b[39m\u001b[38;5;132;01m{\u001b[39;00mdata\u001b[38;5;241m.\u001b[39mx[i,\u001b[38;5;241m2\u001b[39m]\u001b[38;5;132;01m:\u001b[39;00m\u001b[38;5;124m10.4f\u001b[39m\u001b[38;5;132;01m}\u001b[39;00m\u001b[38;5;124m\"\u001b[39m\n\u001b[1;32m     12\u001b[0m         \u001b[38;5;124mf\u001b[39m\u001b[38;5;124m\"\u001b[39m\u001b[38;5;130;01m\\t\u001b[39;00m\u001b[38;5;132;01m{\u001b[39;00mdataset\u001b[38;5;241m.\u001b[39matom_list[atom_index]\u001b[38;5;132;01m}\u001b[39;00m\u001b[38;5;124m\"\u001b[39m)\n\u001b[1;32m     14\u001b[0m \u001b[38;5;28;01mfor\u001b[39;00m i \u001b[38;5;129;01min\u001b[39;00m \u001b[38;5;28mrange\u001b[39m(data\u001b[38;5;241m.\u001b[39medge_attr\u001b[38;5;241m.\u001b[39mshape[\u001b[38;5;241m0\u001b[39m]):\n",
      "File \u001b[0;32m~/Documents/GNN/Contribute/pytorch_geometric/torch_geometric/data/in_memory_dataset.py:318\u001b[0m, in \u001b[0;36mInMemoryDataset.__getattr__\u001b[0;34m(self, key)\u001b[0m\n\u001b[1;32m    315\u001b[0m         data_list \u001b[38;5;241m=\u001b[39m [\u001b[38;5;28mself\u001b[39m\u001b[38;5;241m.\u001b[39mget(i) \u001b[38;5;28;01mfor\u001b[39;00m i \u001b[38;5;129;01min\u001b[39;00m \u001b[38;5;28mself\u001b[39m\u001b[38;5;241m.\u001b[39mindices()]\n\u001b[1;32m    316\u001b[0m         \u001b[38;5;28;01mreturn\u001b[39;00m Batch\u001b[38;5;241m.\u001b[39mfrom_data_list(data_list)[key]\n\u001b[0;32m--> 318\u001b[0m \u001b[38;5;28;01mraise\u001b[39;00m \u001b[38;5;167;01mAttributeError\u001b[39;00m(\u001b[38;5;124mf\u001b[39m\u001b[38;5;124m\"\u001b[39m\u001b[38;5;124m'\u001b[39m\u001b[38;5;132;01m{\u001b[39;00m\u001b[38;5;28mself\u001b[39m\u001b[38;5;241m.\u001b[39m\u001b[38;5;18m__class__\u001b[39m\u001b[38;5;241m.\u001b[39m\u001b[38;5;18m__name__\u001b[39m\u001b[38;5;132;01m}\u001b[39;00m\u001b[38;5;124m'\u001b[39m\u001b[38;5;124m object has no \u001b[39m\u001b[38;5;124m\"\u001b[39m\n\u001b[1;32m    319\u001b[0m                      \u001b[38;5;124mf\u001b[39m\u001b[38;5;124m\"\u001b[39m\u001b[38;5;124mattribute \u001b[39m\u001b[38;5;124m'\u001b[39m\u001b[38;5;132;01m{\u001b[39;00mkey\u001b[38;5;132;01m}\u001b[39;00m\u001b[38;5;124m'\u001b[39m\u001b[38;5;124m\"\u001b[39m)\n",
      "\u001b[0;31mAttributeError\u001b[0m: 'GreycDataset' object has no attribute 'atom_list'"
     ]
    }
   ],
   "source": [
    "for dataset_name in {\"Alkane\", \"Acyclic\", \"MAO\", \"PAH\", \"Monoterpens\"}:\n",
    "    print_ct_file(datasets[dataset_name])"
   ]
  }
 ],
 "metadata": {
  "kernelspec": {
   "display_name": ".venv",
   "language": "python",
   "name": "python3"
  },
  "language_info": {
   "codemirror_mode": {
    "name": "ipython",
    "version": 3
   },
   "file_extension": ".py",
   "mimetype": "text/x-python",
   "name": "python",
   "nbconvert_exporter": "python",
   "pygments_lexer": "ipython3",
   "version": "3.10.12"
  }
 },
 "nbformat": 4,
 "nbformat_minor": 2
}
